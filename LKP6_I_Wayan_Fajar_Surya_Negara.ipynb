{
  "nbformat": 4,
  "nbformat_minor": 0,
  "metadata": {
    "colab": {
      "provenance": [],
      "authorship_tag": "ABX9TyMmy6ElXbo1GH0yjE1a5FTE",
      "include_colab_link": true
    },
    "kernelspec": {
      "name": "python3",
      "display_name": "Python 3"
    },
    "language_info": {
      "name": "python"
    }
  },
  "cells": [
    {
      "cell_type": "markdown",
      "metadata": {
        "id": "view-in-github",
        "colab_type": "text"
      },
      "source": [
        "<a href=\"https://colab.research.google.com/github/flashsss/PraktikumPengPola/blob/main/LKP6_I_Wayan_Fajar_Surya_Negara.ipynb\" target=\"_parent\"><img src=\"https://colab.research.google.com/assets/colab-badge.svg\" alt=\"Open In Colab\"/></a>"
      ]
    },
    {
      "cell_type": "markdown",
      "source": [
        "# **Algoritma pada Modul**"
      ],
      "metadata": {
        "id": "7gZ33S7WCb6T"
      }
    },
    {
      "cell_type": "code",
      "execution_count": 1,
      "metadata": {
        "colab": {
          "base_uri": "https://localhost:8080/"
        },
        "id": "e5NcvbjXAxSM",
        "outputId": "297ea87e-1574-4126-d229-975933efb67c"
      },
      "outputs": [
        {
          "output_type": "stream",
          "name": "stdout",
          "text": [
            "Collecting hmmlearn==0.2.2\n",
            "  Downloading hmmlearn-0.2.2.tar.gz (146 kB)\n",
            "\u001b[2K     \u001b[90m━━━━━━━━━━━━━━━━━━━━━━━━━━━━━━━━━━━━━━━\u001b[0m \u001b[32m146.4/146.4 kB\u001b[0m \u001b[31m3.6 MB/s\u001b[0m eta \u001b[36m0:00:00\u001b[0m\n",
            "\u001b[?25h  Preparing metadata (setup.py) ... \u001b[?25l\u001b[?25hdone\n",
            "Requirement already satisfied: numpy>=1.10 in /usr/local/lib/python3.10/dist-packages (from hmmlearn==0.2.2) (1.23.5)\n",
            "Requirement already satisfied: scikit-learn>=0.16 in /usr/local/lib/python3.10/dist-packages (from hmmlearn==0.2.2) (1.2.2)\n",
            "Requirement already satisfied: scipy>=1.3.2 in /usr/local/lib/python3.10/dist-packages (from scikit-learn>=0.16->hmmlearn==0.2.2) (1.11.2)\n",
            "Requirement already satisfied: joblib>=1.1.1 in /usr/local/lib/python3.10/dist-packages (from scikit-learn>=0.16->hmmlearn==0.2.2) (1.3.2)\n",
            "Requirement already satisfied: threadpoolctl>=2.0.0 in /usr/local/lib/python3.10/dist-packages (from scikit-learn>=0.16->hmmlearn==0.2.2) (3.2.0)\n",
            "Building wheels for collected packages: hmmlearn\n",
            "  Building wheel for hmmlearn (setup.py) ... \u001b[?25l\u001b[?25hdone\n",
            "  Created wheel for hmmlearn: filename=hmmlearn-0.2.2-cp310-cp310-linux_x86_64.whl size=465361 sha256=462954faac3d65c3342c835e0bc31021020f9f00eaa85e8329d432f99ef2c428\n",
            "  Stored in directory: /root/.cache/pip/wheels/50/ce/de/18a9f86c6f0c2863350674635b19f0b5149eaa89f6c571dc06\n",
            "Successfully built hmmlearn\n",
            "Installing collected packages: hmmlearn\n",
            "Successfully installed hmmlearn-0.2.2\n"
          ]
        }
      ],
      "source": [
        "pip install hmmlearn==0.2.2"
      ]
    },
    {
      "cell_type": "markdown",
      "source": [
        "**Mendefinisikan State**"
      ],
      "metadata": {
        "id": "pxkSGfnIA8gH"
      }
    },
    {
      "cell_type": "code",
      "source": [
        "# Definisi Matrik Transisi (states)\n",
        "\n",
        "states = ('Rainy', 'Sunny')\n",
        "\n",
        "# definisi Matriks Observasi / Matrik emmisi\n",
        "observations = ('walk', 'shop', 'clean')\n",
        "\n",
        "# definisi Matriks Priority\n",
        "start_probability = {'Rainy': 0.6, 'Sunny': 0.4}\n",
        "\n",
        "transition_probability = {\n",
        "   'Rainy' : {'Rainy': 0.7, 'Sunny': 0.3},\n",
        "   'Sunny' : {'Rainy': 0.4, 'Sunny': 0.6},\n",
        "   }\n",
        "\n",
        "emission_probability = {\n",
        "   'Rainy' : {'walk': 0.1, 'shop': 0.4, 'clean': 0.5},\n",
        "   'Sunny' : {'walk': 0.6, 'shop': 0.3, 'clean': 0.1},\n",
        "   }"
      ],
      "metadata": {
        "id": "V0L8YSfYBBkv"
      },
      "execution_count": 2,
      "outputs": []
    },
    {
      "cell_type": "markdown",
      "source": [
        "**Instalasi Library dan Representasi pada Matriks**"
      ],
      "metadata": {
        "id": "i8oihxClBLV4"
      }
    },
    {
      "cell_type": "code",
      "source": [
        "# Library untuk HMM\n",
        "# Cara install pip install hmmlearn==0.2.2\n",
        "\n",
        "from hmmlearn import hmm\n",
        "import numpy as np\n",
        "\n",
        "model = hmm.MultinomialHMM(n_components=2)\n",
        "model.startprob_ = np.array([0.6, 0.4])\n",
        "model.transmat_ = np.array([[0.7, 0.3],\n",
        "                            [0.4, 0.6]])\n",
        "model.emissionprob_ = np.array([[0.1, 0.4, 0.5],\n",
        "                                [0.6, 0.3, 0.1]])\n"
      ],
      "metadata": {
        "id": "G1Rzahm5BKsL"
      },
      "execution_count": 3,
      "outputs": []
    },
    {
      "cell_type": "markdown",
      "source": [
        "**Menyelesaikan permasalahan 1 dari HMM**"
      ],
      "metadata": {
        "id": "qAGKPW5qBT5q"
      }
    },
    {
      "cell_type": "code",
      "source": [
        "# Given a known model what is the likelihood of sequence O happening?\n",
        "# The probability of the first observation being “Walk” equals to the multiplication\n",
        "# of the initial state distribution and emission probability matrix.\n",
        "# 0.6 x 0.1 + 0.4 x 0.6 = 0.30 (30%).\n",
        "# The log likelihood is provided from calling .score.\n",
        "# catatan {'walk', 'shop','clean' }\n",
        "# Kasus untuk initial state #\n",
        "# contoh untuk observasi 'walk'\n",
        "# peluang dari model jika observasi adalah 'walk'\n",
        "# 0.6 x 0.1 + 0.4 x 0.6 = 0.30 (30%)\n",
        "\n",
        "import math\n",
        "math.exp(model.score(np.array([[0]])))"
      ],
      "metadata": {
        "colab": {
          "base_uri": "https://localhost:8080/"
        },
        "id": "ffEMBIe8BTPn",
        "outputId": "b5c34524-ad01-425b-8ec7-7e128336b9a5"
      },
      "execution_count": 11,
      "outputs": [
        {
          "output_type": "execute_result",
          "data": {
            "text/plain": [
              "0.30000000000000004"
            ]
          },
          "metadata": {},
          "execution_count": 11
        }
      ]
    },
    {
      "cell_type": "code",
      "source": [
        "# contoh untuk observasi 'shop'\n",
        "# peluang dari model jika observasi adalah 'shop'\n",
        "# 0.6 x 0.4 + 0.4 x 0.3 = (36%)\n",
        "\n",
        "math.exp(model.score(np.array([[1]])))"
      ],
      "metadata": {
        "colab": {
          "base_uri": "https://localhost:8080/"
        },
        "id": "gsN83ho9BuEc",
        "outputId": "18b4f97a-aeb5-4ffa-804e-e38a0fc23ff2"
      },
      "execution_count": 6,
      "outputs": [
        {
          "output_type": "execute_result",
          "data": {
            "text/plain": [
              "0.36000000000000004"
            ]
          },
          "metadata": {},
          "execution_count": 6
        }
      ]
    },
    {
      "cell_type": "code",
      "source": [
        "# contoh untuk observasi 'clean'\n",
        "# peluang dari model jika observasi adalah 'clean'\n",
        "# 0.6 x 0.5 + 0.4 x 0.1 = (34%)\n",
        "\n",
        "math.exp(model.score(np.array([[2]])))"
      ],
      "metadata": {
        "colab": {
          "base_uri": "https://localhost:8080/"
        },
        "id": "6rU59KTzBvNJ",
        "outputId": "2f61dde7-5149-44dd-ca51-cc41209dc6d2"
      },
      "execution_count": 7,
      "outputs": [
        {
          "output_type": "execute_result",
          "data": {
            "text/plain": [
              "0.3400000000000001"
            ]
          },
          "metadata": {},
          "execution_count": 7
        }
      ]
    },
    {
      "cell_type": "code",
      "source": [
        "# contoh untuk observasi {'clean', 'clean'}\n",
        "# peluang dari model jika observasi {'clean', 'clean'} adalah\n",
        "\n",
        "math.exp(model.score(np.array([[2,2]])))"
      ],
      "metadata": {
        "colab": {
          "base_uri": "https://localhost:8080/"
        },
        "id": "3Kn-rRBPB_Yy",
        "outputId": "8ee0d330-a3b1-4fa2-f993-b0e687478a3e"
      },
      "execution_count": 8,
      "outputs": [
        {
          "output_type": "execute_result",
          "data": {
            "text/plain": [
              "0.1244"
            ]
          },
          "metadata": {},
          "execution_count": 8
        }
      ]
    },
    {
      "cell_type": "markdown",
      "source": [
        "**Menyelesaikan permasalahan 2 dari HMM dengan viterbi algortihm**"
      ],
      "metadata": {
        "id": "Yd-MUW0WCEii"
      }
    },
    {
      "cell_type": "code",
      "source": [
        "#==== HMM decode dengan algoritma viterbi di dalamnya ======#\n",
        "logprob, seq = model.decode(np.array([[1,2,0]]).transpose())\n",
        "print(math.exp(logprob))\n",
        "print(seq)"
      ],
      "metadata": {
        "colab": {
          "base_uri": "https://localhost:8080/"
        },
        "id": "pPEaRmt0CBWV",
        "outputId": "f3021445-35e0-462a-e476-eac4df2ccdc2"
      },
      "execution_count": 9,
      "outputs": [
        {
          "output_type": "stream",
          "name": "stdout",
          "text": [
            "0.015120000000000003\n",
            "[0 0 1]\n"
          ]
        }
      ]
    },
    {
      "cell_type": "code",
      "source": [
        "logprob, seq = model.decode(np.array([[2,2,2]]).transpose())\n",
        "print(math.exp(logprob))\n",
        "print(seq)"
      ],
      "metadata": {
        "colab": {
          "base_uri": "https://localhost:8080/"
        },
        "id": "u-pdvzCGCW8t",
        "outputId": "31cf5df0-3bf0-4279-e19f-9b0c71169fdb"
      },
      "execution_count": 10,
      "outputs": [
        {
          "output_type": "stream",
          "name": "stdout",
          "text": [
            "0.03674999999999999\n",
            "[0 0 0]\n"
          ]
        }
      ]
    },
    {
      "cell_type": "markdown",
      "source": [
        "# **Tugas Praktikum**"
      ],
      "metadata": {
        "id": "HLXMCF5CCovr"
      }
    },
    {
      "cell_type": "code",
      "source": [
        "# 1.\tHitung peluang dari model jika observasi\n",
        "#  {'clean', 'clean',’walk’, ‘walk’, ‘shop’} dari model yang ada\n",
        "math.exp(model.score(np.array([[2,2,0,0,1]])))"
      ],
      "metadata": {
        "colab": {
          "base_uri": "https://localhost:8080/"
        },
        "id": "YfgXAUVGCuMP",
        "outputId": "90defbcf-5b5b-4751-963e-9fc2d9ae49b5"
      },
      "execution_count": 15,
      "outputs": [
        {
          "output_type": "execute_result",
          "data": {
            "text/plain": [
              "0.004082395400000001"
            ]
          },
          "metadata": {},
          "execution_count": 15
        }
      ]
    },
    {
      "cell_type": "code",
      "source": [
        "# 1.\tCatat state yang paling  baik untuk untuk observasi\n",
        "#  {'clean', 'clean',’walk’, ‘walk’, ‘shop’} dari model yang ada\n",
        "logprob, seq = model.decode(np.array([[2,2,0,0,1]]).transpose())\n",
        "print(math.exp(logprob))\n",
        "print(seq)"
      ],
      "metadata": {
        "colab": {
          "base_uri": "https://localhost:8080/"
        },
        "id": "R5N5-Ag6FBR5",
        "outputId": "95a03f7e-8e5f-41a0-fa3b-0b8ac2f7c0b9"
      },
      "execution_count": 16,
      "outputs": [
        {
          "output_type": "stream",
          "name": "stdout",
          "text": [
            "0.001224720000000001\n",
            "[0 0 1 1 1]\n"
          ]
        }
      ]
    }
  ]
}