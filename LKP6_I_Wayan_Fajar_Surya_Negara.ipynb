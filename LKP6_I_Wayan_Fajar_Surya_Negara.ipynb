{
  "nbformat": 4,
  "nbformat_minor": 0,
  "metadata": {
    "colab": {
      "provenance": [],
      "authorship_tag": "ABX9TyOFsS0AtQOMzBlU7g2KAld7",
      "include_colab_link": true
    },
    "kernelspec": {
      "name": "python3",
      "display_name": "Python 3"
    },
    "language_info": {
      "name": "python"
    }
  },
  "cells": [
    {
      "cell_type": "markdown",
      "metadata": {
        "id": "view-in-github",
        "colab_type": "text"
      },
      "source": [
        "<a href=\"https://colab.research.google.com/github/flashsss/PraktikumPengPola/blob/main/LKP6_I_Wayan_Fajar_Surya_Negara.ipynb\" target=\"_parent\"><img src=\"https://colab.research.google.com/assets/colab-badge.svg\" alt=\"Open In Colab\"/></a>"
      ]
    },
    {
      "cell_type": "code",
      "execution_count": 3,
      "metadata": {
        "colab": {
          "base_uri": "https://localhost:8080/",
          "height": 70
        },
        "id": "KgoQI4ywH5gu",
        "outputId": "c92d13ab-0b91-4d2b-c65a-bf9297e8ebf6"
      },
      "outputs": [
        {
          "output_type": "stream",
          "name": "stdout",
          "text": [
            "Mounted at /content/gdrive/\n",
            "/content/gdrive/MyDrive/S2/PraktikumPengenalanPola/Praktikum6\n"
          ]
        },
        {
          "output_type": "execute_result",
          "data": {
            "text/plain": [
              "'/content/gdrive/MyDrive/S2/PraktikumPengenalanPola/Praktikum6'"
            ],
            "application/vnd.google.colaboratory.intrinsic+json": {
              "type": "string"
            }
          },
          "metadata": {},
          "execution_count": 3
        }
      ],
      "source": [
        "from google.colab import drive\n",
        "drive.mount('/content/gdrive/')\n",
        "%cd gdrive/MyDrive/S2/PraktikumPengenalanPola/Praktikum6/\n",
        "%pwd"
      ]
    },
    {
      "cell_type": "markdown",
      "source": [
        "# **Algoritma pada Modul**"
      ],
      "metadata": {
        "id": "KdHQpplXS6Z_"
      }
    },
    {
      "cell_type": "markdown",
      "source": [
        "## **1. Decision Tree**"
      ],
      "metadata": {
        "id": "bBjprYhaJO46"
      }
    },
    {
      "cell_type": "code",
      "source": [
        "#Import Library\n",
        "import pandas as pd\n",
        "from sklearn.tree import DecisionTreeClassifier\n",
        "from sklearn.model_selection import train_test_split\n",
        "from sklearn import metrics\n",
        "\n",
        "#Melakukan pembacaaan dataset\n",
        "col_names = ['pregnant', 'glucose', 'bp', 'skin', 'insulin', 'bmi', 'pedigree', 'age', 'label']\n",
        "# load dataset\n",
        "pima = pd.read_csv(\"pima-indians-diabetes.csv\", header=None, names=col_names)\n",
        "#print(pima)\n",
        "\n",
        "#split dataset in features and target variable\n",
        "feature_cols = ['pregnant', 'insulin', 'bmi', 'age','glucose','bp','pedigree']\n",
        "x = pima[feature_cols] # Features\n",
        "y = pima.label # Target variable\n",
        "\n",
        "# Split dataset into training set and test set\n",
        "X_train, X_test, y_train, y_test = train_test_split(x, y, test_size=0.25, random_state=3)\n",
        "\n",
        "# Membuat objek DT\n",
        "# Dapat dioptimalkan dengan menghitung Entropy\n",
        "clf = DecisionTreeClassifier()\n",
        "clf = DecisionTreeClassifier(criterion=\"entropy\", max_depth=3)\n",
        "\n",
        "# Melakukan Pelatihan DT\n",
        "clf = clf.fit(X_train,y_train)\n",
        "\n",
        "# Memprediksi\n",
        "y_pred = clf.predict(X_test)\n",
        "\n",
        "# Menghitung akurasi model\n",
        "print(\"Accuracy:\",metrics.accuracy_score(y_test, y_pred))"
      ],
      "metadata": {
        "colab": {
          "base_uri": "https://localhost:8080/"
        },
        "id": "j_PDxhGuJKlr",
        "outputId": "7f2124c5-32e8-4686-fd28-6a766bc9df6b"
      },
      "execution_count": 4,
      "outputs": [
        {
          "output_type": "stream",
          "name": "stdout",
          "text": [
            "Accuracy: 0.671875\n"
          ]
        }
      ]
    },
    {
      "cell_type": "markdown",
      "source": [
        "## **2. CART (Classification and Regression Tree)**"
      ],
      "metadata": {
        "id": "wnALCZZVJKSG"
      }
    },
    {
      "cell_type": "markdown",
      "source": [
        "Algoritmanya saya edit karena perbedaan versi scikit learn"
      ],
      "metadata": {
        "id": "D4-LB42QS-lE"
      }
    },
    {
      "cell_type": "code",
      "source": [
        "import numpy as np\n",
        "import matplotlib.pyplot as plt\n",
        "import pandas as pd\n",
        "from sklearn.tree import DecisionTreeRegressor\n",
        "from sklearn.model_selection import train_test_split\n",
        "from sklearn.metrics import r2_score\n",
        "\n",
        "#Load dataset\n",
        "boston_dataset = pd.read_csv(\"Boston.csv\")\n",
        "boston = pd.DataFrame(boston_dataset)\n",
        "boston.head()"
      ],
      "metadata": {
        "colab": {
          "base_uri": "https://localhost:8080/",
          "height": 206
        },
        "id": "UjdXYqIOJ6uQ",
        "outputId": "c9c1dea4-a6b3-4dcc-c6ed-613ce0450be9"
      },
      "execution_count": 30,
      "outputs": [
        {
          "output_type": "execute_result",
          "data": {
            "text/plain": [
              "   Unnamed: 0     crim    zn  indus  chas    nox     rm   age     dis  rad  \\\n",
              "0           1  0.00632  18.0   2.31     0  0.538  6.575  65.2  4.0900    1   \n",
              "1           2  0.02731   0.0   7.07     0  0.469  6.421  78.9  4.9671    2   \n",
              "2           3  0.02729   0.0   7.07     0  0.469  7.185  61.1  4.9671    2   \n",
              "3           4  0.03237   0.0   2.18     0  0.458  6.998  45.8  6.0622    3   \n",
              "4           5  0.06905   0.0   2.18     0  0.458  7.147  54.2  6.0622    3   \n",
              "\n",
              "   tax  ptratio   black  lstat  medv  \n",
              "0  296     15.3  396.90   4.98  24.0  \n",
              "1  242     17.8  396.90   9.14  21.6  \n",
              "2  242     17.8  392.83   4.03  34.7  \n",
              "3  222     18.7  394.63   2.94  33.4  \n",
              "4  222     18.7  396.90   5.33  36.2  "
            ],
            "text/html": [
              "\n",
              "  <div id=\"df-8f733516-4f14-41ce-98f1-f81d6aeac3d5\" class=\"colab-df-container\">\n",
              "    <div>\n",
              "<style scoped>\n",
              "    .dataframe tbody tr th:only-of-type {\n",
              "        vertical-align: middle;\n",
              "    }\n",
              "\n",
              "    .dataframe tbody tr th {\n",
              "        vertical-align: top;\n",
              "    }\n",
              "\n",
              "    .dataframe thead th {\n",
              "        text-align: right;\n",
              "    }\n",
              "</style>\n",
              "<table border=\"1\" class=\"dataframe\">\n",
              "  <thead>\n",
              "    <tr style=\"text-align: right;\">\n",
              "      <th></th>\n",
              "      <th>Unnamed: 0</th>\n",
              "      <th>crim</th>\n",
              "      <th>zn</th>\n",
              "      <th>indus</th>\n",
              "      <th>chas</th>\n",
              "      <th>nox</th>\n",
              "      <th>rm</th>\n",
              "      <th>age</th>\n",
              "      <th>dis</th>\n",
              "      <th>rad</th>\n",
              "      <th>tax</th>\n",
              "      <th>ptratio</th>\n",
              "      <th>black</th>\n",
              "      <th>lstat</th>\n",
              "      <th>medv</th>\n",
              "    </tr>\n",
              "  </thead>\n",
              "  <tbody>\n",
              "    <tr>\n",
              "      <th>0</th>\n",
              "      <td>1</td>\n",
              "      <td>0.00632</td>\n",
              "      <td>18.0</td>\n",
              "      <td>2.31</td>\n",
              "      <td>0</td>\n",
              "      <td>0.538</td>\n",
              "      <td>6.575</td>\n",
              "      <td>65.2</td>\n",
              "      <td>4.0900</td>\n",
              "      <td>1</td>\n",
              "      <td>296</td>\n",
              "      <td>15.3</td>\n",
              "      <td>396.90</td>\n",
              "      <td>4.98</td>\n",
              "      <td>24.0</td>\n",
              "    </tr>\n",
              "    <tr>\n",
              "      <th>1</th>\n",
              "      <td>2</td>\n",
              "      <td>0.02731</td>\n",
              "      <td>0.0</td>\n",
              "      <td>7.07</td>\n",
              "      <td>0</td>\n",
              "      <td>0.469</td>\n",
              "      <td>6.421</td>\n",
              "      <td>78.9</td>\n",
              "      <td>4.9671</td>\n",
              "      <td>2</td>\n",
              "      <td>242</td>\n",
              "      <td>17.8</td>\n",
              "      <td>396.90</td>\n",
              "      <td>9.14</td>\n",
              "      <td>21.6</td>\n",
              "    </tr>\n",
              "    <tr>\n",
              "      <th>2</th>\n",
              "      <td>3</td>\n",
              "      <td>0.02729</td>\n",
              "      <td>0.0</td>\n",
              "      <td>7.07</td>\n",
              "      <td>0</td>\n",
              "      <td>0.469</td>\n",
              "      <td>7.185</td>\n",
              "      <td>61.1</td>\n",
              "      <td>4.9671</td>\n",
              "      <td>2</td>\n",
              "      <td>242</td>\n",
              "      <td>17.8</td>\n",
              "      <td>392.83</td>\n",
              "      <td>4.03</td>\n",
              "      <td>34.7</td>\n",
              "    </tr>\n",
              "    <tr>\n",
              "      <th>3</th>\n",
              "      <td>4</td>\n",
              "      <td>0.03237</td>\n",
              "      <td>0.0</td>\n",
              "      <td>2.18</td>\n",
              "      <td>0</td>\n",
              "      <td>0.458</td>\n",
              "      <td>6.998</td>\n",
              "      <td>45.8</td>\n",
              "      <td>6.0622</td>\n",
              "      <td>3</td>\n",
              "      <td>222</td>\n",
              "      <td>18.7</td>\n",
              "      <td>394.63</td>\n",
              "      <td>2.94</td>\n",
              "      <td>33.4</td>\n",
              "    </tr>\n",
              "    <tr>\n",
              "      <th>4</th>\n",
              "      <td>5</td>\n",
              "      <td>0.06905</td>\n",
              "      <td>0.0</td>\n",
              "      <td>2.18</td>\n",
              "      <td>0</td>\n",
              "      <td>0.458</td>\n",
              "      <td>7.147</td>\n",
              "      <td>54.2</td>\n",
              "      <td>6.0622</td>\n",
              "      <td>3</td>\n",
              "      <td>222</td>\n",
              "      <td>18.7</td>\n",
              "      <td>396.90</td>\n",
              "      <td>5.33</td>\n",
              "      <td>36.2</td>\n",
              "    </tr>\n",
              "  </tbody>\n",
              "</table>\n",
              "</div>\n",
              "    <div class=\"colab-df-buttons\">\n",
              "\n",
              "  <div class=\"colab-df-container\">\n",
              "    <button class=\"colab-df-convert\" onclick=\"convertToInteractive('df-8f733516-4f14-41ce-98f1-f81d6aeac3d5')\"\n",
              "            title=\"Convert this dataframe to an interactive table.\"\n",
              "            style=\"display:none;\">\n",
              "\n",
              "  <svg xmlns=\"http://www.w3.org/2000/svg\" height=\"24px\" viewBox=\"0 -960 960 960\">\n",
              "    <path d=\"M120-120v-720h720v720H120Zm60-500h600v-160H180v160Zm220 220h160v-160H400v160Zm0 220h160v-160H400v160ZM180-400h160v-160H180v160Zm440 0h160v-160H620v160ZM180-180h160v-160H180v160Zm440 0h160v-160H620v160Z\"/>\n",
              "  </svg>\n",
              "    </button>\n",
              "\n",
              "  <style>\n",
              "    .colab-df-container {\n",
              "      display:flex;\n",
              "      gap: 12px;\n",
              "    }\n",
              "\n",
              "    .colab-df-convert {\n",
              "      background-color: #E8F0FE;\n",
              "      border: none;\n",
              "      border-radius: 50%;\n",
              "      cursor: pointer;\n",
              "      display: none;\n",
              "      fill: #1967D2;\n",
              "      height: 32px;\n",
              "      padding: 0 0 0 0;\n",
              "      width: 32px;\n",
              "    }\n",
              "\n",
              "    .colab-df-convert:hover {\n",
              "      background-color: #E2EBFA;\n",
              "      box-shadow: 0px 1px 2px rgba(60, 64, 67, 0.3), 0px 1px 3px 1px rgba(60, 64, 67, 0.15);\n",
              "      fill: #174EA6;\n",
              "    }\n",
              "\n",
              "    .colab-df-buttons div {\n",
              "      margin-bottom: 4px;\n",
              "    }\n",
              "\n",
              "    [theme=dark] .colab-df-convert {\n",
              "      background-color: #3B4455;\n",
              "      fill: #D2E3FC;\n",
              "    }\n",
              "\n",
              "    [theme=dark] .colab-df-convert:hover {\n",
              "      background-color: #434B5C;\n",
              "      box-shadow: 0px 1px 3px 1px rgba(0, 0, 0, 0.15);\n",
              "      filter: drop-shadow(0px 1px 2px rgba(0, 0, 0, 0.3));\n",
              "      fill: #FFFFFF;\n",
              "    }\n",
              "  </style>\n",
              "\n",
              "    <script>\n",
              "      const buttonEl =\n",
              "        document.querySelector('#df-8f733516-4f14-41ce-98f1-f81d6aeac3d5 button.colab-df-convert');\n",
              "      buttonEl.style.display =\n",
              "        google.colab.kernel.accessAllowed ? 'block' : 'none';\n",
              "\n",
              "      async function convertToInteractive(key) {\n",
              "        const element = document.querySelector('#df-8f733516-4f14-41ce-98f1-f81d6aeac3d5');\n",
              "        const dataTable =\n",
              "          await google.colab.kernel.invokeFunction('convertToInteractive',\n",
              "                                                    [key], {});\n",
              "        if (!dataTable) return;\n",
              "\n",
              "        const docLinkHtml = 'Like what you see? Visit the ' +\n",
              "          '<a target=\"_blank\" href=https://colab.research.google.com/notebooks/data_table.ipynb>data table notebook</a>'\n",
              "          + ' to learn more about interactive tables.';\n",
              "        element.innerHTML = '';\n",
              "        dataTable['output_type'] = 'display_data';\n",
              "        await google.colab.output.renderOutput(dataTable, element);\n",
              "        const docLink = document.createElement('div');\n",
              "        docLink.innerHTML = docLinkHtml;\n",
              "        element.appendChild(docLink);\n",
              "      }\n",
              "    </script>\n",
              "  </div>\n",
              "\n",
              "\n",
              "<div id=\"df-861fcdfd-78da-4075-a554-baf5c953465f\">\n",
              "  <button class=\"colab-df-quickchart\" onclick=\"quickchart('df-861fcdfd-78da-4075-a554-baf5c953465f')\"\n",
              "            title=\"Suggest charts.\"\n",
              "            style=\"display:none;\">\n",
              "\n",
              "<svg xmlns=\"http://www.w3.org/2000/svg\" height=\"24px\"viewBox=\"0 0 24 24\"\n",
              "     width=\"24px\">\n",
              "    <g>\n",
              "        <path d=\"M19 3H5c-1.1 0-2 .9-2 2v14c0 1.1.9 2 2 2h14c1.1 0 2-.9 2-2V5c0-1.1-.9-2-2-2zM9 17H7v-7h2v7zm4 0h-2V7h2v10zm4 0h-2v-4h2v4z\"/>\n",
              "    </g>\n",
              "</svg>\n",
              "  </button>\n",
              "\n",
              "<style>\n",
              "  .colab-df-quickchart {\n",
              "      --bg-color: #E8F0FE;\n",
              "      --fill-color: #1967D2;\n",
              "      --hover-bg-color: #E2EBFA;\n",
              "      --hover-fill-color: #174EA6;\n",
              "      --disabled-fill-color: #AAA;\n",
              "      --disabled-bg-color: #DDD;\n",
              "  }\n",
              "\n",
              "  [theme=dark] .colab-df-quickchart {\n",
              "      --bg-color: #3B4455;\n",
              "      --fill-color: #D2E3FC;\n",
              "      --hover-bg-color: #434B5C;\n",
              "      --hover-fill-color: #FFFFFF;\n",
              "      --disabled-bg-color: #3B4455;\n",
              "      --disabled-fill-color: #666;\n",
              "  }\n",
              "\n",
              "  .colab-df-quickchart {\n",
              "    background-color: var(--bg-color);\n",
              "    border: none;\n",
              "    border-radius: 50%;\n",
              "    cursor: pointer;\n",
              "    display: none;\n",
              "    fill: var(--fill-color);\n",
              "    height: 32px;\n",
              "    padding: 0;\n",
              "    width: 32px;\n",
              "  }\n",
              "\n",
              "  .colab-df-quickchart:hover {\n",
              "    background-color: var(--hover-bg-color);\n",
              "    box-shadow: 0 1px 2px rgba(60, 64, 67, 0.3), 0 1px 3px 1px rgba(60, 64, 67, 0.15);\n",
              "    fill: var(--button-hover-fill-color);\n",
              "  }\n",
              "\n",
              "  .colab-df-quickchart-complete:disabled,\n",
              "  .colab-df-quickchart-complete:disabled:hover {\n",
              "    background-color: var(--disabled-bg-color);\n",
              "    fill: var(--disabled-fill-color);\n",
              "    box-shadow: none;\n",
              "  }\n",
              "\n",
              "  .colab-df-spinner {\n",
              "    border: 2px solid var(--fill-color);\n",
              "    border-color: transparent;\n",
              "    border-bottom-color: var(--fill-color);\n",
              "    animation:\n",
              "      spin 1s steps(1) infinite;\n",
              "  }\n",
              "\n",
              "  @keyframes spin {\n",
              "    0% {\n",
              "      border-color: transparent;\n",
              "      border-bottom-color: var(--fill-color);\n",
              "      border-left-color: var(--fill-color);\n",
              "    }\n",
              "    20% {\n",
              "      border-color: transparent;\n",
              "      border-left-color: var(--fill-color);\n",
              "      border-top-color: var(--fill-color);\n",
              "    }\n",
              "    30% {\n",
              "      border-color: transparent;\n",
              "      border-left-color: var(--fill-color);\n",
              "      border-top-color: var(--fill-color);\n",
              "      border-right-color: var(--fill-color);\n",
              "    }\n",
              "    40% {\n",
              "      border-color: transparent;\n",
              "      border-right-color: var(--fill-color);\n",
              "      border-top-color: var(--fill-color);\n",
              "    }\n",
              "    60% {\n",
              "      border-color: transparent;\n",
              "      border-right-color: var(--fill-color);\n",
              "    }\n",
              "    80% {\n",
              "      border-color: transparent;\n",
              "      border-right-color: var(--fill-color);\n",
              "      border-bottom-color: var(--fill-color);\n",
              "    }\n",
              "    90% {\n",
              "      border-color: transparent;\n",
              "      border-bottom-color: var(--fill-color);\n",
              "    }\n",
              "  }\n",
              "</style>\n",
              "\n",
              "  <script>\n",
              "    async function quickchart(key) {\n",
              "      const quickchartButtonEl =\n",
              "        document.querySelector('#' + key + ' button');\n",
              "      quickchartButtonEl.disabled = true;  // To prevent multiple clicks.\n",
              "      quickchartButtonEl.classList.add('colab-df-spinner');\n",
              "      try {\n",
              "        const charts = await google.colab.kernel.invokeFunction(\n",
              "            'suggestCharts', [key], {});\n",
              "      } catch (error) {\n",
              "        console.error('Error during call to suggestCharts:', error);\n",
              "      }\n",
              "      quickchartButtonEl.classList.remove('colab-df-spinner');\n",
              "      quickchartButtonEl.classList.add('colab-df-quickchart-complete');\n",
              "    }\n",
              "    (() => {\n",
              "      let quickchartButtonEl =\n",
              "        document.querySelector('#df-861fcdfd-78da-4075-a554-baf5c953465f button');\n",
              "      quickchartButtonEl.style.display =\n",
              "        google.colab.kernel.accessAllowed ? 'block' : 'none';\n",
              "    })();\n",
              "  </script>\n",
              "</div>\n",
              "    </div>\n",
              "  </div>\n"
            ]
          },
          "metadata": {},
          "execution_count": 30
        }
      ]
    },
    {
      "cell_type": "code",
      "source": [
        "boston['medv'] = boston_dataset['medv']  # Assign the target column\n",
        "\n",
        "names = boston.columns[:-1]  # Feature names\n",
        "\n",
        "array = boston.values\n",
        "\n",
        "X = array[:,0:14]\n",
        "Y = array[:,14]\n",
        "\n",
        "\n",
        "# Split the data into training and testing sets\n",
        "X_train, X_test, Y_train, Y_test = train_test_split(X, Y, test_size=0.3, random_state=1234)\n",
        "\n",
        "# Initialize the Decision Tree Regressor model\n",
        "model = DecisionTreeRegressor(criterion='squared_error', max_depth=None, max_features=None,\n",
        "                              max_leaf_nodes=50,\n",
        "                              min_samples_leaf=1,\n",
        "                              min_samples_split=2)\n",
        "\n",
        "# Evaluasi\n",
        "rt = model.fit(X_train, Y_train)\n",
        "rt\n",
        "\n",
        "import random as rnd\n",
        "\n",
        "# Generate a random new data point for prediction\n",
        "rnd.seed(123458)\n",
        "X_new = X[rnd.randrange(X.shape[0])]\n",
        "X_new = X_new.reshape(1, 14)  # Reshape to match the model's input shape\n",
        "\n",
        "# Prediksi Model\n",
        "YHat = model.predict(X_new)\n",
        "\n",
        "# Menampilkan hasil prediksi\n",
        "df = pd.DataFrame(X_new, columns=names)\n",
        "df[\"Predicted Price\"] = YHat\n",
        "print(df.head(1))\n",
        "\n",
        "# Predict using the model for the test set\n",
        "YHat = model.predict(X_test)\n",
        "print(YHat)\n",
        "\n",
        "# Calculate R-squared\n",
        "r2 = r2_score(Y_test, YHat)\n",
        "print(\"R-Squared = \", r2)"
      ],
      "metadata": {
        "colab": {
          "base_uri": "https://localhost:8080/"
        },
        "id": "LxbCAiRPQYbg",
        "outputId": "d11bbf93-f609-498e-be56-d4095c38211d"
      },
      "execution_count": 38,
      "outputs": [
        {
          "output_type": "stream",
          "name": "stdout",
          "text": [
            "   Unnamed: 0     crim   zn  indus  chas   nox     rm   age     dis  rad  \\\n",
            "0       104.0  0.21161  0.0   8.56   0.0  0.52  6.137  87.4  2.7147  5.0   \n",
            "\n",
            "     tax  ptratio   black  lstat  Predicted Price  \n",
            "0  384.0     20.9  394.47  13.44        19.956757  \n",
            "[35.51       26.05       10.32       22.35238095 13.44166667 23.71666667\n",
            " 19.95675676 13.3        20.575      29.30714286 18.36666667 22.35238095\n",
            " 22.35238095 18.31666667 17.71111111 23.71666667  8.71176471 16.81428571\n",
            " 19.95675676 10.32       37.73333333 23.71666667 19.95675676 16.81428571\n",
            " 26.05       19.77142857 19.95675676 22.26       31.52857143 22.83333333\n",
            " 20.575      15.46666667 18.31666667 13.44166667 23.71666667 17.13333333\n",
            " 20.50714286 22.35238095 10.32        8.71176471  8.71176471 18.31666667\n",
            " 49.78571429 31.76       19.95675676 26.05       23.41428571 42.3\n",
            " 13.44166667 24.51111111 19.95675676 35.51       23.71666667 23.71666667\n",
            " 50.         31.76        8.71176471 31.52857143 23.41428571 22.35238095\n",
            " 35.51       13.44166667 29.33333333 37.73333333 10.32       22.26\n",
            " 35.51       20.50714286 49.78571429 49.15       10.95       23.71666667\n",
            " 13.3        19.18333333 23.71666667  8.71176471 49.15       23.71666667\n",
            " 16.775      16.775      42.75       49.78571429 23.71666667 16.775\n",
            " 22.26        8.71176471 26.05       31.52857143 19.77142857 22.26\n",
            " 15.46666667  8.71176471 22.26       19.18333333 13.98       42.3\n",
            " 15.46666667 23.41428571 24.51111111 24.51111111 19.95675676 19.95675676\n",
            " 19.18333333 29.33333333 15.46666667 49.78571429  8.71176471 13.98\n",
            " 29.30714286 19.95675676  8.71176471 24.51111111 19.95675676 23.41428571\n",
            " 13.98       22.26       37.73333333 23.41428571 13.98       49.15\n",
            " 22.35238095 13.44166667 18.31666667 35.51       19.95675676 35.2\n",
            " 23.71666667 22.26       19.95675676 22.35238095 22.83333333 19.95675676\n",
            " 16.325      10.32       15.3        13.98       16.81428571 35.51\n",
            " 17.13333333 29.33333333 19.95675676  8.71176471 26.05       19.95675676\n",
            " 31.52857143 26.05       22.26       23.41428571 23.71666667  8.71176471\n",
            " 19.95675676 19.77142857]\n",
            "R-Squared =  0.8505804766777052\n"
          ]
        }
      ]
    },
    {
      "cell_type": "markdown",
      "source": [
        "## **Bagging**"
      ],
      "metadata": {
        "id": "YtkXJw4eSq9G"
      }
    },
    {
      "cell_type": "code",
      "source": [
        "#Impor Library\n",
        "import numpy as np\n",
        "from sklearn import datasets\n",
        "from sklearn.model_selection import train_test_split\n",
        "from sklearn.preprocessing import StandardScaler\n",
        "from sklearn.linear_model import LogisticRegression\n",
        "from sklearn.pipeline import make_pipeline\n",
        "from sklearn.ensemble import BaggingClassifier\n",
        "from sklearn.model_selection import GridSearchCV\n",
        "\n",
        "#Load cancer dataset\n",
        "bc = datasets.load_breast_cancer()\n",
        "X = bc.data\n",
        "y = bc.target\n",
        "\n",
        "#membagi dataset\n",
        "X_train, X_test, y_train, y_test = train_test_split(X, y, test_size=0.25, random_state=1, stratify=y)\n",
        "\n",
        "#Melakukan pipelining\n",
        "pipeline = make_pipeline(StandardScaler(),\n",
        "                        LogisticRegression(random_state=1))\n",
        "\n",
        "#Skema bagging\n",
        "bgclassifier = BaggingClassifier(base_estimator=pipeline, n_estimators=100,\n",
        "                                 max_features=8,\n",
        "                                 max_samples=80,\n",
        "                                 random_state=1, n_jobs=5)\n",
        "\n",
        "bgclassifier.fit(X_train, y_train)\n",
        "\n",
        "print('Model test Score: %.3f, ' %bgclassifier.score(X_test, y_test),\n",
        "      'Model training Score: %.3f' %bgclassifier.score(X_train, y_train))"
      ],
      "metadata": {
        "colab": {
          "base_uri": "https://localhost:8080/"
        },
        "id": "WbMS8OJsSqrL",
        "outputId": "b474271b-27fe-4af7-bb20-8d649fefc67f"
      },
      "execution_count": 39,
      "outputs": [
        {
          "output_type": "stream",
          "name": "stderr",
          "text": [
            "/usr/local/lib/python3.10/dist-packages/sklearn/ensemble/_base.py:166: FutureWarning: `base_estimator` was renamed to `estimator` in version 1.2 and will be removed in 1.4.\n",
            "  warnings.warn(\n"
          ]
        },
        {
          "output_type": "stream",
          "name": "stdout",
          "text": [
            "Model test Score: 0.958,  Model training Score: 0.960\n"
          ]
        }
      ]
    },
    {
      "cell_type": "markdown",
      "source": [
        "# **Tugas Praktikum**"
      ],
      "metadata": {
        "id": "dJYWjQRsT77Y"
      }
    },
    {
      "cell_type": "markdown",
      "source": [
        "1.\tMelakukan visualisasi Tree\n",
        "> a.\tDecision Treev  \n",
        "> b.\tCART\n",
        "\n",
        "\n"
      ],
      "metadata": {
        "id": "WN2vbbl5UB04"
      }
    },
    {
      "cell_type": "code",
      "source": [
        "import matplotlib.pyplot as plt\n",
        "from sklearn.tree import export_graphviz\n",
        "import graphviz\n",
        "\n",
        "# Export the decision tree to a tree.dot file\n",
        "dot_data = export_graphviz(clf, out_file=None,\n",
        "                           feature_names=feature_cols,\n",
        "                           class_names=['0', '1'],\n",
        "                           filled=True, rounded=True,\n",
        "                           special_characters=True)\n",
        "\n",
        "# Visualize the decision tree using Graphviz\n",
        "graph = graphviz.Source(dot_data)\n",
        "graph.render('decision_tree', view=True)  # This will create a PDF file and display it"
      ],
      "metadata": {
        "colab": {
          "base_uri": "https://localhost:8080/",
          "height": 35
        },
        "id": "GaHWYSBbUC2v",
        "outputId": "3fb83c49-9d22-45de-ed3d-37a8732939fd"
      },
      "execution_count": 41,
      "outputs": [
        {
          "output_type": "execute_result",
          "data": {
            "text/plain": [
              "'decision_tree.pdf'"
            ],
            "application/vnd.google.colaboratory.intrinsic+json": {
              "type": "string"
            }
          },
          "metadata": {},
          "execution_count": 41
        }
      ]
    },
    {
      "cell_type": "code",
      "source": [
        "from sklearn.tree import export_text\n",
        "from sklearn import tree\n",
        "import graphviz\n",
        "tree_rules = export_text(model, feature_names=names.tolist())\n",
        "# print(\"Decision Tree Rules:\\n\", tree_rules)\n",
        "dot_data = tree.export_graphviz(model, out_file=None,\n",
        "                                feature_names=names.tolist(),\n",
        "                                filled=True, rounded=True,\n",
        "                                special_characters=True)\n",
        "graph = graphviz.Source(dot_data)\n",
        "graph.render(\"CART_tree\")  # This will save the tree as a PDF file"
      ],
      "metadata": {
        "colab": {
          "base_uri": "https://localhost:8080/",
          "height": 35
        },
        "id": "4fnEhpfRaRKY",
        "outputId": "932938b0-d923-4dad-fb65-d9f074d00e4d"
      },
      "execution_count": 43,
      "outputs": [
        {
          "output_type": "execute_result",
          "data": {
            "text/plain": [
              "'CART_tree.pdf'"
            ],
            "application/vnd.google.colaboratory.intrinsic+json": {
              "type": "string"
            }
          },
          "metadata": {},
          "execution_count": 43
        }
      ]
    },
    {
      "cell_type": "markdown",
      "source": [
        "2.\tMelakukan tanpa skema bagging\n",
        "\n",
        "> a.\tPada Bagging\n",
        "\n",
        "\n"
      ],
      "metadata": {
        "id": "OvckIvRXaxpQ"
      }
    },
    {
      "cell_type": "code",
      "source": [
        "# Impor Library\n",
        "import numpy as np\n",
        "from sklearn import datasets\n",
        "from sklearn.model_selection import train_test_split\n",
        "from sklearn.preprocessing import StandardScaler\n",
        "from sklearn.linear_model import LogisticRegression\n",
        "from sklearn.pipeline import make_pipeline\n",
        "\n",
        "# Load cancer dataset\n",
        "bc = datasets.load_breast_cancer()\n",
        "X = bc.data\n",
        "y = bc.target\n",
        "\n",
        "# Membagi dataset\n",
        "X_train, X_test, y_train, y_test = train_test_split(X, y, test_size=0.25, random_state=1, stratify=y)\n",
        "\n",
        "# Melakukan pipelining\n",
        "pipeline = make_pipeline(StandardScaler(),\n",
        "                        LogisticRegression(random_state=1))\n",
        "\n",
        "# Latih model Logistic Regression pada data latih\n",
        "pipeline.fit(X_train, y_train)\n",
        "\n",
        "# Evaluasi performa model pada data uji dan latih\n",
        "test_score = pipeline.score(X_test, y_test)\n",
        "train_score = pipeline.score(X_train, y_train)\n",
        "\n",
        "print('Model test Score: %.3f, ' % test_score,\n",
        "      'Model training Score: %.3f' % train_score)\n"
      ],
      "metadata": {
        "colab": {
          "base_uri": "https://localhost:8080/"
        },
        "id": "ULRo86jza5uP",
        "outputId": "9d4aebb9-8f87-44dd-be6b-3935702e68f9"
      },
      "execution_count": 44,
      "outputs": [
        {
          "output_type": "stream",
          "name": "stdout",
          "text": [
            "Model test Score: 0.965,  Model training Score: 0.991\n"
          ]
        }
      ]
    }
  ]
}